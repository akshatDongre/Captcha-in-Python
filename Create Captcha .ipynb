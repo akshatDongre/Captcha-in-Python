{
 "cells": [
  {
   "cell_type": "code",
   "execution_count": null,
   "metadata": {},
   "outputs": [],
   "source": [
    "#We would need to Install Python Captcha Module.\n",
    "#Open a terminal and run command pip install captcha\n",
    "\n",
    "#After install captcha module successfully, follow below steps to create an image captcha\n",
    "\n",
    "#Import captcha.image.ImageCaptcha class:\n",
    "from captcha.image import ImageCaptcha\n",
    "\n",
    "#Create an instance of ImageCaptcha:\n",
    "image = ImageCaptcha()\n",
    "\n",
    "#Calling ImageCaptcha.generate_image method to create the image object:\n",
    "data = image.generate('123abcd')\n",
    "\n",
    "#Saving the file:\n",
    "image.write('123abcd', 'imcap.png')\n",
    "\n",
    "#Similar steps can be followed to create an Audio Captcha:\n",
    "from captcha.audio import AudioCaptcha\n",
    "audio = AudioCaptcha()\n",
    "data1 = audio.generate('123456')\n",
    "audio.write('123456','audcap.wav')"
   ]
  },
  {
   "cell_type": "code",
   "execution_count": null,
   "metadata": {},
   "outputs": [],
   "source": []
  },
  {
   "cell_type": "code",
   "execution_count": null,
   "metadata": {},
   "outputs": [],
   "source": []
  },
  {
   "cell_type": "code",
   "execution_count": null,
   "metadata": {},
   "outputs": [],
   "source": []
  },
  {
   "cell_type": "code",
   "execution_count": null,
   "metadata": {},
   "outputs": [],
   "source": []
  },
  {
   "cell_type": "code",
   "execution_count": null,
   "metadata": {},
   "outputs": [],
   "source": []
  }
 ],
 "metadata": {
  "kernelspec": {
   "display_name": "Python 3",
   "language": "python",
   "name": "python3"
  },
  "language_info": {
   "codemirror_mode": {
    "name": "ipython",
    "version": 3
   },
   "file_extension": ".py",
   "mimetype": "text/x-python",
   "name": "python",
   "nbconvert_exporter": "python",
   "pygments_lexer": "ipython3",
   "version": "3.7.3"
  }
 },
 "nbformat": 4,
 "nbformat_minor": 2
}
